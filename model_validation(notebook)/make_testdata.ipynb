{
 "cells": [
  {
   "cell_type": "code",
   "execution_count": 3,
   "metadata": {},
   "outputs": [],
   "source": [
    "import numpy as np\n",
    "from PIL import Image\n",
    "import os\n",
    "import torch\n",
    "from torchvision import transforms\n",
    "import glob\n",
    "import re\n",
    "from sklearn.model_selection import train_test_split\n",
    "from torch.utils.data import DataLoader, Dataset\n",
    "import random\n"
   ]
  },
  {
   "cell_type": "code",
   "execution_count": 4,
   "metadata": {},
   "outputs": [],
   "source": [
    "translate = {\n",
    "    \"cane\": \"dog\",\n",
    "    \"cavallo\": \"horse\",\n",
    "    \"elefante\": \"elephant\",\n",
    "    \"farfalla\": \"butterfly\",\n",
    "    \"gallina\": \"chicken\",\n",
    "    \"gatto\": \"cat\",\n",
    "    \"mucca\": \"cow\",\n",
    "    \"pecora\": \"sheep\",\n",
    "    \"scoiattolo\": \"squirrel\",\n",
    "    \"ragno\": \"spider\",\n",
    "}\n",
    "dic = {\n",
    "    \"cane\": 0,\n",
    "    \"cavallo\": 1,\n",
    "    \"elefante\": 2,\n",
    "    \"farfalla\": 3,\n",
    "    \"gallina\": 4,\n",
    "    \"gatto\": 5,\n",
    "    \"mucca\": 6,\n",
    "    \"pecora\": 7,\n",
    "    \"scoiattolo\": 8,\n",
    "    \"ragno\": 9,\n",
    "}\n",
    "reversed_dic = {value: key for key, value in dic.items()}"
   ]
  },
  {
   "cell_type": "code",
   "execution_count": 5,
   "metadata": {},
   "outputs": [],
   "source": [
    "image_dir = \"../archive/raw-img\"\n",
    "\n",
    "image_files = [os.path.join(image_dir, i) for i in translate.keys()]"
   ]
  },
  {
   "cell_type": "code",
   "execution_count": 6,
   "metadata": {},
   "outputs": [
    {
     "data": {
      "text/plain": [
       "['../archive/raw-img/cane',\n",
       " '../archive/raw-img/cavallo',\n",
       " '../archive/raw-img/elefante',\n",
       " '../archive/raw-img/farfalla',\n",
       " '../archive/raw-img/gallina',\n",
       " '../archive/raw-img/gatto',\n",
       " '../archive/raw-img/mucca',\n",
       " '../archive/raw-img/pecora',\n",
       " '../archive/raw-img/scoiattolo',\n",
       " '../archive/raw-img/ragno']"
      ]
     },
     "execution_count": 6,
     "metadata": {},
     "output_type": "execute_result"
    }
   ],
   "source": [
    "image_files"
   ]
  },
  {
   "cell_type": "code",
   "execution_count": 7,
   "metadata": {},
   "outputs": [],
   "source": [
    "images = []\n",
    "\n",
    "for i, _ in enumerate(image_files):\n",
    "    images.extend(random.sample(glob.glob(os.path.join(image_files[i], \"*jpeg\")), 103))\n",
    "    \n",
    "labeled_data = []\n",
    "\n",
    "for image in images:\n",
    "    for key, label in dic.items():\n",
    "        if re.search(key, image):\n",
    "            labeled_data.append((image, label))"
   ]
  },
  {
   "cell_type": "code",
   "execution_count": 8,
   "metadata": {},
   "outputs": [
    {
     "data": {
      "text/plain": [
       "[('../archive/raw-img/cane/OIP-Np-jMbJwF0LasJsevkgRzwHaFj.jpeg', 0),\n",
       " ('../archive/raw-img/cane/OIP-mr7gf5k-4k4uIc0DNp_drAHaH6.jpeg', 0),\n",
       " ('../archive/raw-img/cane/OIP-FdpUuCwVDztWF5WDpwjm8QHaFj.jpeg', 0),\n",
       " ('../archive/raw-img/cane/OIP-ZRO80b7FUJqFwBRtIFyKvAHaFl.jpeg', 0),\n",
       " ('../archive/raw-img/cane/OIP-RsIOOZeH-LHhwu7ZAx-BNAHaGh.jpeg', 0)]"
      ]
     },
     "execution_count": 8,
     "metadata": {},
     "output_type": "execute_result"
    }
   ],
   "source": [
    "labeled_data[:5]"
   ]
  },
  {
   "cell_type": "code",
   "execution_count": 13,
   "metadata": {},
   "outputs": [],
   "source": [
    "import sys\n",
    "sys.path.append('../tools')\n",
    "\n",
    "from _make_testdata import _make_testdata"
   ]
  },
  {
   "cell_type": "code",
   "execution_count": null,
   "metadata": {},
   "outputs": [],
   "source": [
    "test_loader = make_testdata()"
   ]
  },
  {
   "cell_type": "code",
   "execution_count": null,
   "metadata": {},
   "outputs": [],
   "source": [
    "for images, labels in test_loader:\n",
    "    print(images[0][0])\n",
    "    print(labels)\n",
    "    print(images[0].shape)\n",
    "    break"
   ]
  },
  {
   "cell_type": "code",
   "execution_count": 11,
   "metadata": {},
   "outputs": [
    {
     "data": {
      "text/plain": [
       "['__init__.py',\n",
       " '__pycache__',\n",
       " '_make_dataloader.py',\n",
       " '_make_testdata.py',\n",
       " '_input_data.py',\n",
       " 'inference.py',\n",
       " 'compare_models.py',\n",
       " '_select_model.py']"
      ]
     },
     "execution_count": 11,
     "metadata": {},
     "output_type": "execute_result"
    }
   ],
   "source": [
    "os.listdir(\"../tools\")"
   ]
  },
  {
   "cell_type": "code",
   "execution_count": 14,
   "metadata": {},
   "outputs": [],
   "source": [
    "from _make_dataloader import _make_dataloader"
   ]
  },
  {
   "cell_type": "code",
   "execution_count": 15,
   "metadata": {},
   "outputs": [
    {
     "name": "stdout",
     "output_type": "stream",
     "text": [
      "画像の読み込み完了\n",
      "画像の前処理完了\n",
      "データローダー作成完了\n",
      "test_loader: 33\n"
     ]
    }
   ],
   "source": [
    "from _make_testdata import _make_testdata\n",
    "\n",
    "test_loader = _make_testdata()"
   ]
  },
  {
   "cell_type": "code",
   "execution_count": null,
   "metadata": {},
   "outputs": [],
   "source": []
  }
 ],
 "metadata": {
  "kernelspec": {
   "display_name": ".test_env",
   "language": "python",
   "name": "python3"
  },
  "language_info": {
   "codemirror_mode": {
    "name": "ipython",
    "version": 3
   },
   "file_extension": ".py",
   "mimetype": "text/x-python",
   "name": "python",
   "nbconvert_exporter": "python",
   "pygments_lexer": "ipython3",
   "version": "3.12.4"
  }
 },
 "nbformat": 4,
 "nbformat_minor": 2
}
