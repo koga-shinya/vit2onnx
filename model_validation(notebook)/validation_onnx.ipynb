{
 "cells": [
  {
   "cell_type": "markdown",
   "metadata": {},
   "source": [
    "# 学習させたVisionTransformerモデルをテストデータで再度推論させる"
   ]
  },
  {
   "cell_type": "code",
   "execution_count": 1,
   "metadata": {},
   "outputs": [],
   "source": [
    "import os\n",
    "import sys\n",
    "sys.path.append('../tools')\n",
    "sys.path.append(\"../models\")\n",
    "from model import ModelClass\n",
    "from _make_dataloader import _make_dataloader\n",
    "import torch\n",
    "import torchvision.models as models\n",
    "import torch.nn as nn\n",
    "import torch.optim as optim\n",
    "import onnx\n",
    "import onnxruntime as ort\n",
    "import numpy as np"
   ]
  },
  {
   "cell_type": "code",
   "execution_count": 2,
   "metadata": {},
   "outputs": [
    {
     "name": "stdout",
     "output_type": "stream",
     "text": [
      "画像の読み込み完了\n",
      "0〜5000の範囲でバッチ処理完了\n",
      "5001〜10000の範囲でバッチ処理完了\n",
      "10001〜15000の範囲でバッチ処理完了\n",
      "15001〜の範囲でバッチ処理完了\n",
      "画像の前処理完了\n",
      "DataLoader作成完了\n",
      "train_loader:  547\n",
      "val_loader:  97\n",
      "test_loader:  114\n"
     ]
    }
   ],
   "source": [
    "# archive内の画像を前処理して、データローダーを作成\n",
    "train_loader, val_loader, test_loader = _make_dataloader()"
   ]
  },
  {
   "cell_type": "code",
   "execution_count": 3,
   "metadata": {},
   "outputs": [
    {
     "name": "stdout",
     "output_type": "stream",
     "text": [
      "予測ラベル：tensor([9, 6, 4, 9, 8, 0, 8, 3, 0, 8], device='mps:0')\n",
      "正解ラベル：tensor([9, 6, 4, 9, 8, 0, 8, 3, 0, 8], device='mps:0')\n",
      "----------------\n",
      "予測ラベル：tensor([1, 1, 8, 9, 8, 5, 4, 5, 0, 2], device='mps:0')\n",
      "正解ラベル：tensor([1, 1, 8, 9, 8, 5, 4, 0, 0, 2], device='mps:0')\n",
      "----------------\n",
      "予測ラベル：tensor([7, 9, 9, 9, 4, 0, 0, 0, 4, 9], device='mps:0')\n",
      "正解ラベル：tensor([7, 9, 9, 9, 4, 0, 0, 0, 4, 9], device='mps:0')\n",
      "----------------\n",
      "予測ラベル：tensor([0, 6, 9, 3, 4, 5, 4, 0, 2, 6], device='mps:0')\n",
      "正解ラベル：tensor([0, 6, 9, 3, 4, 5, 4, 0, 2, 6], device='mps:0')\n",
      "----------------\n",
      "予測ラベル：tensor([4, 7, 0, 1, 2, 0, 9, 6, 9, 4], device='mps:0')\n",
      "正解ラベル：tensor([4, 7, 0, 1, 2, 0, 9, 6, 9, 4], device='mps:0')\n",
      "----------------\n",
      "予測ラベル：tensor([6, 4, 4, 9, 4, 0, 5, 3, 3, 0], device='mps:0')\n",
      "正解ラベル：tensor([6, 4, 4, 9, 4, 0, 5, 3, 3, 0], device='mps:0')\n",
      "----------------\n",
      "Test Accuracy: 97.92%\n"
     ]
    }
   ],
   "source": [
    "# モデルのインスタンス化\n",
    "model = ModelClass()\n",
    "\n",
    "model.load_state_dict(torch.load('../models/vit_cls.pth'))\n",
    "\n",
    "# モデルをデバイスに移動\n",
    "device = torch.device('mps')\n",
    "model.to(device)\n",
    "\n",
    "# モデルの評価\n",
    "model.eval()\n",
    "\n",
    "batch_size = 32\n",
    "correct = 0\n",
    "total = 0\n",
    "\n",
    "with torch.no_grad():\n",
    "    for i, (images, labels) in enumerate(test_loader):\n",
    "        images, labels = images.to(device), labels.to(device)\n",
    "        \n",
    "        outputs = model(images)\n",
    "        \n",
    "        # 予測ラベル取得\n",
    "        _, predicted = torch.max(outputs, 1)\n",
    "        \n",
    "        # 正解数のカウント\n",
    "        total += labels.size(0)\n",
    "        correct += (predicted == labels).sum().item()\n",
    "        \n",
    "        print(f'予測ラベル：{predicted[:10]}')\n",
    "        print(f'正解ラベル：{labels[:10]}')\n",
    "        print('----------------')\n",
    "        i += 1\n",
    "        if i > 5 :\n",
    "            break\n",
    "    \n",
    "# 精度計算\n",
    "accuracy = 100 * correct/total\n",
    "\n",
    "print(f\"Test Accuracy: {accuracy:.2f}%\")"
   ]
  },
  {
   "cell_type": "markdown",
   "metadata": {},
   "source": [
    "# 変換したONNX形式のモデルで再度推論\n",
    "\n",
    "onnx-optimizer-tool > convert_to_onnx.pyを使用して変換した`.onnx`ファイルを使う  \n",
    "`vit_cls.pth`にtest_loaderを推論させたときの精度を比較する。（learn_vit.ipynbを参照）"
   ]
  },
  {
   "cell_type": "markdown",
   "metadata": {},
   "source": [
    "## ONNXモデルで推論させる"
   ]
  },
  {
   "cell_type": "code",
   "execution_count": 4,
   "metadata": {},
   "outputs": [
    {
     "name": "stdout",
     "output_type": "stream",
     "text": [
      "ONNXモデルの検証が成功しました！\n",
      "予測ラベル：[9 6 4 9 8 0 8 3 0 8]\n",
      "正解ラベル：[9 6 4 9 8 0 8 3 0 8]\n",
      "----------------\n",
      "予測ラベル：[1 1 8 9 8 5 4 5 0 2]\n",
      "正解ラベル：[1 1 8 9 8 5 4 0 0 2]\n",
      "----------------\n",
      "予測ラベル：[7 9 9 9 4 0 0 0 4 9]\n",
      "正解ラベル：[7 9 9 9 4 0 0 0 4 9]\n",
      "----------------\n",
      "予測ラベル：[0 6 9 3 4 5 4 0 2 6]\n",
      "正解ラベル：[0 6 9 3 4 5 4 0 2 6]\n",
      "----------------\n",
      "予測ラベル：[4 7 0 1 2 0 9 6 9 4]\n",
      "正解ラベル：[4 7 0 1 2 0 9 6 9 4]\n",
      "----------------\n",
      "予測ラベル：[6 4 4 9 4 0 5 3 3 0]\n",
      "正解ラベル：[6 4 4 9 4 0 5 3 3 0]\n",
      "----------------\n",
      "Test Accuracy: 97.92%\n"
     ]
    }
   ],
   "source": [
    "# モデルのロード\n",
    "onnx_path = \"../models/vit_cls.onnx\"\n",
    "\n",
    "onnx_model = onnx.load(onnx_path)\n",
    "\n",
    "# モデルの検証\n",
    "onnx.checker.check_model(onnx_model)\n",
    "print(\"ONNXモデルの検証が成功しました！\")\n",
    "\n",
    "\n",
    "# ONNXRuntimeセッションを作成\n",
    "ort_session = ort.InferenceSession(onnx_path)\n",
    "\n",
    "# 出力名を確認\n",
    "output_name = [output.name for output in ort_session.get_outputs()]\n",
    "\n",
    "# 推論を実行\n",
    "\n",
    "correct = 0\n",
    "total = 0\n",
    "\n",
    "for i, (images, labels) in enumerate(test_loader):\n",
    "\tort_inputs = {ort_session.get_inputs()[0].name: images.numpy()}\n",
    "\tort_outputs = ort_session.run(output_name, ort_inputs)\n",
    "\tpredicted = np.argmax(ort_outputs[0], axis=1)\n",
    "\tlabels = labels.numpy()\n",
    "\t# 正解数のカウント\n",
    "\ttotal += len(labels)\n",
    "\tcorrect += (predicted == labels).sum()\n",
    "\t\n",
    "\tprint(f'予測ラベル：{predicted[:10]}')\n",
    "\tprint(f'正解ラベル：{labels[:10]}')\n",
    "\tprint('----------------')\n",
    "\ti += 1\n",
    "\tif i > 5 :\n",
    "\t\tbreak\n",
    "\n",
    "\n",
    "# 精度計算\n",
    "accuracy = 100 * correct/total\n",
    "\n",
    "print(f\"Test Accuracy: {accuracy:.2f}%\")"
   ]
  },
  {
   "cell_type": "markdown",
   "metadata": {},
   "source": [
    "## Netronで可視化"
   ]
  },
  {
   "cell_type": "code",
   "execution_count": null,
   "metadata": {},
   "outputs": [],
   "source": [
    "import netron\n",
    "\n",
    "# Visualize the ONNX model\n",
    "netron.start(onnx_path)"
   ]
  },
  {
   "cell_type": "markdown",
   "metadata": {},
   "source": [
    "**結論：変換前後で精度は変わらなかった**"
   ]
  },
  {
   "cell_type": "code",
   "execution_count": null,
   "metadata": {},
   "outputs": [],
   "source": []
  }
 ],
 "metadata": {
  "kernelspec": {
   "display_name": ".test_env",
   "language": "python",
   "name": "python3"
  },
  "language_info": {
   "codemirror_mode": {
    "name": "ipython",
    "version": 3
   },
   "file_extension": ".py",
   "mimetype": "text/x-python",
   "name": "python",
   "nbconvert_exporter": "python",
   "pygments_lexer": "ipython3",
   "version": "3.12.4"
  }
 },
 "nbformat": 4,
 "nbformat_minor": 2
}
